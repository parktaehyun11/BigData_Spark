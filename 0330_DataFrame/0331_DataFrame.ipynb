{
 "cells": [
  {
   "cell_type": "markdown",
   "metadata": {},
   "source": [
    "# 3. DataFrame\n",
    "- 행,열로 구조화도니 데이터 구조, RDD인데 schema 얹어 놓은 것\n",
    "- spark 1.0 당시 schemaRDD라는 명칭으로 제공 됨\n",
    "- 대용량 데이터를 처리하기 위해 만들어진 프레임워크로 분산해서 사용할 수 있게 고안 됨\n",
    "- 모델 schema를 설정해서 사용함\n",
    "- '열(row)'에 대해 명칭 및 '데이터 type'을 갖고 있고, 이를 지켜서 데이터 저장함\n",
    "\n",
    "**Schema**\n",
    "- row는 dataframe의 행\n",
    "- python의 list, dict를 사용해서 row 구성할 수 있음\n",
    "- column은 dataframe의 열\n",
    "\n",
    "\n",
    "**dataframe의 데이터 type**\n",
    "- NullType\n",
    "- StringType\n",
    "- BinaryType\n",
    "- BooleanType\n",
    "- DateType\n",
    "- TimestampType\n",
    "- DoubleType\n",
    "- DecimalType\n",
    "- ShortType\n",
    "- ArrayType\n",
    "- MapType"
   ]
  },
  {
   "cell_type": "markdown",
   "metadata": {},
   "source": [
    "## 3.2 DataFrame API 사용하기"
   ]
  },
  {
   "cell_type": "markdown",
   "metadata": {},
   "source": [
    "### 3.2.0 DataFrame 생성하기"
   ]
  },
  {
   "cell_type": "code",
   "execution_count": 18,
   "metadata": {},
   "outputs": [
    {
     "name": "stdout",
     "output_type": "stream",
     "text": [
      "Overwriting data/name_height_weight.txt\n"
     ]
    }
   ],
   "source": [
    "%%writefile data/name_height_weight.txt\n",
    "Kim 180.0 78.0\n",
    "Park 190.0 86.0\n",
    "Lee 189.5 89.5\n",
    "Yang 195.0 94.0\n",
    "Oh 200.0 104.0"
   ]
  },
  {
   "cell_type": "code",
   "execution_count": 19,
   "metadata": {},
   "outputs": [],
   "source": [
    "# dataframe 생성하기\n",
    "df = (spark\n",
    ".read\n",
    ".options(header='false',inferschema='true', delimiter=' ')\n",
    ".csv(os.path.join('data/name_height_weight.txt'))\n",
    "     )"
   ]
  },
  {
   "cell_type": "code",
   "execution_count": 20,
   "metadata": {},
   "outputs": [
    {
     "name": "stdout",
     "output_type": "stream",
     "text": [
      "root\n",
      " |-- _c0: string (nullable = true)\n",
      " |-- _c1: double (nullable = true)\n",
      " |-- _c2: double (nullable = true)\n",
      "\n"
     ]
    }
   ],
   "source": [
    "# dataframe schema 프린트\n",
    "df.printSchema()"
   ]
  },
  {
   "cell_type": "code",
   "execution_count": 21,
   "metadata": {},
   "outputs": [
    {
     "name": "stdout",
     "output_type": "stream",
     "text": [
      "+----+-----+-----+\n",
      "| _c0|  _c1|  _c2|\n",
      "+----+-----+-----+\n",
      "| Kim|180.0| 78.0|\n",
      "|Park|190.0| 86.0|\n",
      "| Lee|189.5| 89.5|\n",
      "|Yang|195.0| 94.0|\n",
      "|  Oh|200.0|104.0|\n",
      "+----+-----+-----+\n",
      "\n"
     ]
    }
   ],
   "source": [
    "# dataframe 보여주기\n",
    "df.show()"
   ]
  },
  {
   "cell_type": "code",
   "execution_count": 22,
   "metadata": {},
   "outputs": [
    {
     "data": {
      "text/plain": [
       "['_c0', '_c1', '_c2']"
      ]
     },
     "execution_count": 22,
     "metadata": {},
     "output_type": "execute_result"
    }
   ],
   "source": [
    "# dataframe column 확인\n",
    "df.columns"
   ]
  },
  {
   "cell_type": "markdown",
   "metadata": {},
   "source": [
    "### 3.2.1 Column 추가  - withColumn()"
   ]
  },
  {
   "cell_type": "code",
   "execution_count": 23,
   "metadata": {},
   "outputs": [],
   "source": [
    "# 기존 있던 column 보기 좋게 바꿔주고 원하는 형으로 변환\n",
    "df = df.withColumn(\"name\", df._c0.cast(\"string\"))\n",
    "df = df.withColumn(\"height\", df['_c1'].cast(\"double\"))\n",
    "df = df.withColumn(\"weight\", df['_c2'].cast(\"double\"))"
   ]
  },
  {
   "cell_type": "code",
   "execution_count": 24,
   "metadata": {},
   "outputs": [
    {
     "name": "stdout",
     "output_type": "stream",
     "text": [
      "root\n",
      " |-- _c0: string (nullable = true)\n",
      " |-- _c1: double (nullable = true)\n",
      " |-- _c2: double (nullable = true)\n",
      " |-- name: string (nullable = true)\n",
      " |-- height: double (nullable = true)\n",
      " |-- weight: double (nullable = true)\n",
      "\n"
     ]
    }
   ],
   "source": [
    "# dataframe schema 프린트\n",
    "df.printSchema()"
   ]
  },
  {
   "cell_type": "markdown",
   "metadata": {},
   "source": [
    "### 3.2.2. Column 삭제 - drop()"
   ]
  },
  {
   "cell_type": "code",
   "execution_count": 25,
   "metadata": {},
   "outputs": [],
   "source": [
    "# 필요없는 column 삭제\n",
    "df = df.drop('_c0').drop('_c1').drop('_c2')"
   ]
  },
  {
   "cell_type": "code",
   "execution_count": 26,
   "metadata": {},
   "outputs": [
    {
     "name": "stdout",
     "output_type": "stream",
     "text": [
      "root\n",
      " |-- name: string (nullable = true)\n",
      " |-- height: double (nullable = true)\n",
      " |-- weight: double (nullable = true)\n",
      "\n"
     ]
    }
   ],
   "source": [
    "# dataframe schema 프린트\n",
    "df.printSchema()"
   ]
  },
  {
   "cell_type": "markdown",
   "metadata": {},
   "source": [
    "### 3.2.3 where(행 선택), select(열 선택)"
   ]
  },
  {
   "cell_type": "code",
   "execution_count": 27,
   "metadata": {},
   "outputs": [
    {
     "name": "stdout",
     "output_type": "stream",
     "text": [
      "+----+------+------+\n",
      "|name|height|weight|\n",
      "+----+------+------+\n",
      "| Kim| 180.0|  78.0|\n",
      "|Park| 190.0|  86.0|\n",
      "| Lee| 189.5|  89.5|\n",
      "|Yang| 195.0|  94.0|\n",
      "|  Oh| 200.0| 104.0|\n",
      "+----+------+------+\n",
      "\n"
     ]
    }
   ],
   "source": [
    "# dataframe 보여주기\n",
    "df.show()"
   ]
  },
  {
   "cell_type": "code",
   "execution_count": 33,
   "metadata": {
    "scrolled": true
   },
   "outputs": [
    {
     "name": "stdout",
     "output_type": "stream",
     "text": [
      "+----+------+------+\n",
      "|name|height|weight|\n",
      "+----+------+------+\n",
      "|Park| 190.0|  86.0|\n",
      "|Yang| 195.0|  94.0|\n",
      "|  Oh| 200.0| 104.0|\n",
      "+----+------+------+\n",
      "\n"
     ]
    }
   ],
   "source": [
    "# 키 190 이상인 사람들 행(row) 선택\n",
    "df.where(df.height >= 190).show()"
   ]
  },
  {
   "cell_type": "code",
   "execution_count": 66,
   "metadata": {},
   "outputs": [
    {
     "name": "stdout",
     "output_type": "stream",
     "text": [
      "+----+------+\n",
      "|name|height|\n",
      "+----+------+\n",
      "|Park| 190.0|\n",
      "|Yang| 195.0|\n",
      "|  Oh| 200.0|\n",
      "+----+------+\n",
      "\n"
     ]
    }
   ],
   "source": [
    "# 키 190 이상인 사람들 행 선택, 그리고 name, height column만 출력\n",
    "df.where(df.height >= 190).select(df.name,df.height).show()"
   ]
  },
  {
   "cell_type": "code",
   "execution_count": 34,
   "metadata": {
    "scrolled": true
   },
   "outputs": [
    {
     "name": "stdout",
     "output_type": "stream",
     "text": [
      "+----+------+------+\n",
      "|name|height|weight|\n",
      "+----+------+------+\n",
      "|Yang| 195.0|  94.0|\n",
      "|  Oh| 200.0| 104.0|\n",
      "+----+------+------+\n",
      "\n"
     ]
    }
   ],
   "source": [
    "# 키 190 이상이면서, 몸무게 90 이상인 사람들 행 선택\n",
    "df.where(df.height >= 190).where(df.weight >= 90).show()"
   ]
  },
  {
   "cell_type": "code",
   "execution_count": 68,
   "metadata": {
    "scrolled": true
   },
   "outputs": [
    {
     "name": "stdout",
     "output_type": "stream",
     "text": [
      "+----+------+\n",
      "|name|height|\n",
      "+----+------+\n",
      "|Yang| 195.0|\n",
      "|  Oh| 200.0|\n",
      "+----+------+\n",
      "\n"
     ]
    }
   ],
   "source": [
    "# 키 190 이상이면서, 몸무게 90 이상인 사람들 행 선택, 그리고 name, height column만 출력\n",
    "df.where(df.height >= 190).where(df.weight >= 90).select(df.name,df.height).show()"
   ]
  },
  {
   "cell_type": "markdown",
   "metadata": {},
   "source": [
    "## 3.3 Join\n",
    "- inner join : 왼쪽과 오른쪽 데이터셋에 키가 있는 로우를 유지\n",
    "- outer join : 왼쪽이나 오른쪽 데이터셋에 키가 있는 로우를 유지\n",
    "- left outer join : 왼쪽 데이터셋에 키가 있는 로우를 유지\n",
    "- right outher join : 오른쪽 데이터셋에 키가 있는 로우를 유지\n",
    "- left semi join : 왼쪽 데이터셋의 키가 오른쪽 데이터셋에 있는 경우에는 키가 일치하는 왼쪽 데이터셋만 유지 \n",
    "- left anti join : 왼쪽 데이터셋의 키가 오른쪽 테이터셋에 없는 경우에는 키가 일치하지 않는 왼쪽 데이터셋만 유지\n",
    "- cross join 또는 cartesian join : 왼쪽 데이터셋의 모든 로우와 오른쪽 데이터셋의 모든 로우를 조합"
   ]
  },
  {
   "cell_type": "markdown",
   "metadata": {},
   "source": [
    "### 3.3.0 데이터 생성"
   ]
  },
  {
   "cell_type": "code",
   "execution_count": 11,
   "metadata": {},
   "outputs": [],
   "source": [
    "# 예제 위한 데이터셋 생성\n",
    "person = spark.createDataFrame([\n",
    "    (0, \"Bill Chambers\",0,[100]),\n",
    "    (1, \"Matei Zaharia\",1,[500,250,100]),\n",
    "    (2, \"Michael Armbrust\",1,[250,100])\n",
    "]).toDF(\"id\",\"name\",\"graduate_program\",\"spark_status\")\n",
    "\n",
    "graduateProgram = spark.createDataFrame([\n",
    "    (0,\"Masters\",\"School of Information\",\"UC Berkeley\"),\n",
    "    (2,\"Masters\",\"EECS\",\"UC Berkeley\"),\n",
    "    (1,\"Ph.D\",\"EECS\",\"UC Berkeley\")\n",
    "]).toDF(\"id\",\"degree\",\"department\",\"school\")\n",
    "\n",
    "sparkStatus = spark.createDataFrame([\n",
    "    (500,\"Vice President\"),\n",
    "    (250,\"PMC Member\"),\n",
    "    (100,\"Contributor\")\n",
    "]).toDF(\"id\",\"status\")"
   ]
  },
  {
   "cell_type": "code",
   "execution_count": 12,
   "metadata": {},
   "outputs": [],
   "source": [
    "# 데이터셋 테이블로 등록\n",
    "person.createOrReplaceTempView(\"person\")\n",
    "graduateProgram.createOrReplaceTempView(\"graduateProgram\")\n",
    "sparkStatus.createOrReplaceTempView(\"sparkStatus\")"
   ]
  },
  {
   "cell_type": "markdown",
   "metadata": {},
   "source": [
    "### 3.3.1 inner join(내부 조인)\n",
    "- inner join은 DataFrame이나 테이블에 존재하는 키를 평가\n",
    "- true로 평가되는 로우만 결합"
   ]
  },
  {
   "cell_type": "code",
   "execution_count": 13,
   "metadata": {},
   "outputs": [],
   "source": [
    "# graduateProgram과 person 조인해서 새로운 DF 만드는 예제\n",
    "joinExpression = person[\"graduate_program\"] == graduateProgram[\"id\"]"
   ]
  },
  {
   "cell_type": "code",
   "execution_count": 14,
   "metadata": {},
   "outputs": [
    {
     "name": "stdout",
     "output_type": "stream",
     "text": [
      "+---+----------------+----------------+---------------+---+-------+--------------------+-----------+\n",
      "| id|            name|graduate_program|   spark_status| id| degree|          department|     school|\n",
      "+---+----------------+----------------+---------------+---+-------+--------------------+-----------+\n",
      "|  0|   Bill Chambers|               0|          [100]|  0|Masters|School of Informa...|UC Berkeley|\n",
      "|  1|   Matei Zaharia|               1|[500, 250, 100]|  1|   Ph.D|                EECS|UC Berkeley|\n",
      "|  2|Michael Armbrust|               1|     [250, 100]|  1|   Ph.D|                EECS|UC Berkeley|\n",
      "+---+----------------+----------------+---------------+---+-------+--------------------+-----------+\n",
      "\n"
     ]
    }
   ],
   "source": [
    "person.join(graduateProgram, joinExpression).show()"
   ]
  },
  {
   "cell_type": "code",
   "execution_count": 15,
   "metadata": {
    "scrolled": true
   },
   "outputs": [
    {
     "name": "stdout",
     "output_type": "stream",
     "text": [
      "+---+----------------+----------------+---------------+---+-------+--------------------+-----------+\n",
      "| id|            name|graduate_program|   spark_status| id| degree|          department|     school|\n",
      "+---+----------------+----------------+---------------+---+-------+--------------------+-----------+\n",
      "|  0|   Bill Chambers|               0|          [100]|  0|Masters|School of Informa...|UC Berkeley|\n",
      "|  1|   Matei Zaharia|               1|[500, 250, 100]|  1|   Ph.D|                EECS|UC Berkeley|\n",
      "|  2|Michael Armbrust|               1|     [250, 100]|  1|   Ph.D|                EECS|UC Berkeley|\n",
      "+---+----------------+----------------+---------------+---+-------+--------------------+-----------+\n",
      "\n"
     ]
    }
   ],
   "source": [
    "# .join() 의 세번쨰 파라미터로 joinType 지정 가능\n",
    "joinType = \"inner\"\n",
    "person.join(graduateProgram, joinExpression, joinType).show()"
   ]
  },
  {
   "cell_type": "markdown",
   "metadata": {},
   "source": [
    "### 3.3.2 outer join(외부 조인)\n",
    "- outer join은 DataFrame이나 테이블에 존제하는 키를 평가\n",
    "- true 나 false로 평가되는 로우 포함\n",
    "- DF에 일치하는 로우 없으면 null 자동 삽입"
   ]
  },
  {
   "cell_type": "code",
   "execution_count": 16,
   "metadata": {
    "scrolled": false
   },
   "outputs": [
    {
     "name": "stdout",
     "output_type": "stream",
     "text": [
      "+----+----------------+----------------+---------------+---+-------+--------------------+-----------+\n",
      "|  id|            name|graduate_program|   spark_status| id| degree|          department|     school|\n",
      "+----+----------------+----------------+---------------+---+-------+--------------------+-----------+\n",
      "|   0|   Bill Chambers|               0|          [100]|  0|Masters|School of Informa...|UC Berkeley|\n",
      "|   1|   Matei Zaharia|               1|[500, 250, 100]|  1|   Ph.D|                EECS|UC Berkeley|\n",
      "|   2|Michael Armbrust|               1|     [250, 100]|  1|   Ph.D|                EECS|UC Berkeley|\n",
      "|null|            null|            null|           null|  2|Masters|                EECS|UC Berkeley|\n",
      "+----+----------------+----------------+---------------+---+-------+--------------------+-----------+\n",
      "\n"
     ]
    }
   ],
   "source": [
    "joinType = \"outer\"\n",
    "joinExpression = person[\"graduate_program\"] == graduateProgram[\"id\"]\n",
    "person.join(graduateProgram, joinExpression, joinType).show()"
   ]
  },
  {
   "cell_type": "code",
   "execution_count": 18,
   "metadata": {},
   "outputs": [
    {
     "name": "stdout",
     "output_type": "stream",
     "text": [
      "+---+-------+--------------------+-----------+----+----------------+----------------+---------------+\n",
      "| id| degree|          department|     school|  id|            name|graduate_program|   spark_status|\n",
      "+---+-------+--------------------+-----------+----+----------------+----------------+---------------+\n",
      "|  0|Masters|School of Informa...|UC Berkeley|   0|   Bill Chambers|               0|          [100]|\n",
      "|  1|   Ph.D|                EECS|UC Berkeley|   1|   Matei Zaharia|               1|[500, 250, 100]|\n",
      "|  1|   Ph.D|                EECS|UC Berkeley|   2|Michael Armbrust|               1|     [250, 100]|\n",
      "|  2|Masters|                EECS|UC Berkeley|null|            null|            null|           null|\n",
      "+---+-------+--------------------+-----------+----+----------------+----------------+---------------+\n",
      "\n"
     ]
    }
   ],
   "source": [
    "joinType = \"outer\"\n",
    "joinExpression = person[\"graduate_program\"] == graduateProgram[\"id\"]\n",
    "graduateProgram.join(person, joinExpression, joinType).show()"
   ]
  },
  {
   "cell_type": "markdown",
   "metadata": {},
   "source": [
    "### 3.3.3 left outer join (왼쪽 외부 조인)\n",
    "- left outer join은 DataFrame이나 테이블에 존재하는 키 평가\n",
    "- 왼쪽 DF의 모든 로우와 왼쪽 DF와 일치하는 오른쪽 DF의 로우를 함께 포함\n",
    "- 오른쪽 DF에 일치하는 로우 없을 시, 해당 위치 null 삽입"
   ]
  },
  {
   "cell_type": "code",
   "execution_count": 17,
   "metadata": {},
   "outputs": [
    {
     "name": "stdout",
     "output_type": "stream",
     "text": [
      "+---+-------+--------------------+-----------+----+----------------+----------------+---------------+\n",
      "| id| degree|          department|     school|  id|            name|graduate_program|   spark_status|\n",
      "+---+-------+--------------------+-----------+----+----------------+----------------+---------------+\n",
      "|  0|Masters|School of Informa...|UC Berkeley|   0|   Bill Chambers|               0|          [100]|\n",
      "|  1|   Ph.D|                EECS|UC Berkeley|   1|   Matei Zaharia|               1|[500, 250, 100]|\n",
      "|  1|   Ph.D|                EECS|UC Berkeley|   2|Michael Armbrust|               1|     [250, 100]|\n",
      "|  2|Masters|                EECS|UC Berkeley|null|            null|            null|           null|\n",
      "+---+-------+--------------------+-----------+----+----------------+----------------+---------------+\n",
      "\n"
     ]
    }
   ],
   "source": [
    "joinType = \"left_outer\"\n",
    "joinExpression = person[\"graduate_program\"] == graduateProgram[\"id\"]\n",
    "graduateProgram.join(person, joinExpression, joinType).show()"
   ]
  },
  {
   "cell_type": "markdown",
   "metadata": {},
   "source": [
    "### 3.3.4 right outer join(오른쪽 외부 조인)\n",
    "- right outer join은 DataFrame이나 테이블에 존재하는 키 평가\n",
    "- 오른쪽 DF의 모든 로우와 오른쪽 DF와 일치하는 왼쪽 DF의 로우를 함께 포함\n",
    "- 왼쪽 DF에 일치하는 로우가 없을 시, 해당 위치 null 삽입"
   ]
  },
  {
   "cell_type": "code",
   "execution_count": 19,
   "metadata": {},
   "outputs": [
    {
     "name": "stdout",
     "output_type": "stream",
     "text": [
      "+----+----------------+----------------+---------------+---+-------+--------------------+-----------+\n",
      "|  id|            name|graduate_program|   spark_status| id| degree|          department|     school|\n",
      "+----+----------------+----------------+---------------+---+-------+--------------------+-----------+\n",
      "|   0|   Bill Chambers|               0|          [100]|  0|Masters|School of Informa...|UC Berkeley|\n",
      "|   1|   Matei Zaharia|               1|[500, 250, 100]|  1|   Ph.D|                EECS|UC Berkeley|\n",
      "|   2|Michael Armbrust|               1|     [250, 100]|  1|   Ph.D|                EECS|UC Berkeley|\n",
      "|null|            null|            null|           null|  2|Masters|                EECS|UC Berkeley|\n",
      "+----+----------------+----------------+---------------+---+-------+--------------------+-----------+\n",
      "\n"
     ]
    }
   ],
   "source": [
    "joinType = \"right_outer\"\n",
    "joinExpression = person[\"graduate_program\"] == graduateProgram[\"id\"]\n",
    "person.join(graduateProgram, joinExpression, joinType).show()"
   ]
  },
  {
   "cell_type": "markdown",
   "metadata": {},
   "source": [
    "### 3.3.5 left semi join(왼쪽 세미 조인)\n",
    "- left semi join은 오른쪽 DF의 어떤 값도 포함하지 않기 때문에 다른 조인과 약간 다름\n",
    "- 2번째 DF는 값이 존재하는지 확인하기 위해 값만 비교하는 용도로 사용\n",
    "- 만약 값이 존재하면 왼쪽 DF에 중복 키가 존재하더라도 해당 로우는 결과에 포함\n",
    "- 기존의 조인 기능과 달리 DF의 필터 정도라 볼 수 있음"
   ]
  },
  {
   "cell_type": "code",
   "execution_count": 20,
   "metadata": {},
   "outputs": [
    {
     "name": "stdout",
     "output_type": "stream",
     "text": [
      "+---+-------+--------------------+-----------+\n",
      "| id| degree|          department|     school|\n",
      "+---+-------+--------------------+-----------+\n",
      "|  0|Masters|School of Informa...|UC Berkeley|\n",
      "|  1|   Ph.D|                EECS|UC Berkeley|\n",
      "+---+-------+--------------------+-----------+\n",
      "\n"
     ]
    }
   ],
   "source": [
    "joinType = \"left_semi\"\n",
    "joinExpression = person[\"graduate_program\"] == graduateProgram[\"id\"]\n",
    "graduateProgram.join(person,joinExpression,joinType).show()"
   ]
  },
  {
   "cell_type": "markdown",
   "metadata": {},
   "source": [
    "### 3.3.6 left anti join(왼쪽 안티 조인)\n",
    "- left semi join과 반대 개념\n",
    "- 오른쪽 DF의 어떤 값도 포함하지 않음\n",
    "- 2번째 DF는 값이 존재하는지 확인하기 위해 값만 비교하는 용도로 사용\n",
    "- but, 2번째 DF에 존재하는 값을 유지하는 대신 2번째 DF에서 관련된 키를 찾을 수 없는 로우만 결과에 포함\n",
    "- SQL의 NOT-IN 스타일 필터라 볼 수 있음"
   ]
  },
  {
   "cell_type": "code",
   "execution_count": 21,
   "metadata": {},
   "outputs": [
    {
     "name": "stdout",
     "output_type": "stream",
     "text": [
      "+---+-------+----------+-----------+\n",
      "| id| degree|department|     school|\n",
      "+---+-------+----------+-----------+\n",
      "|  2|Masters|      EECS|UC Berkeley|\n",
      "+---+-------+----------+-----------+\n",
      "\n"
     ]
    }
   ],
   "source": [
    "joinType = \"left_anti\"\n",
    "joinExpression = person[\"graduate_program\"] == graduateProgram[\"id\"]\n",
    "graduateProgram.join(person,joinExpression,joinType).show()"
   ]
  },
  {
   "cell_type": "markdown",
   "metadata": {},
   "source": [
    "### 3.3.7 cartesian join(cross join, 크로스 조인, 카테시안 조인)\n",
    "- 조건절을 기술하지 않은 inner join\n",
    "- cartesian join은 왼쪽 DF의 모든 로우를 오른쪽 DF의 모든 로우와 결합"
   ]
  },
  {
   "cell_type": "code",
   "execution_count": 22,
   "metadata": {},
   "outputs": [
    {
     "name": "stdout",
     "output_type": "stream",
     "text": [
      "+---+----------------+----------------+---------------+---+-------+--------------------+-----------+\n",
      "| id|            name|graduate_program|   spark_status| id| degree|          department|     school|\n",
      "+---+----------------+----------------+---------------+---+-------+--------------------+-----------+\n",
      "|  0|   Bill Chambers|               0|          [100]|  0|Masters|School of Informa...|UC Berkeley|\n",
      "|  0|   Bill Chambers|               0|          [100]|  2|Masters|                EECS|UC Berkeley|\n",
      "|  0|   Bill Chambers|               0|          [100]|  1|   Ph.D|                EECS|UC Berkeley|\n",
      "|  1|   Matei Zaharia|               1|[500, 250, 100]|  0|Masters|School of Informa...|UC Berkeley|\n",
      "|  1|   Matei Zaharia|               1|[500, 250, 100]|  2|Masters|                EECS|UC Berkeley|\n",
      "|  1|   Matei Zaharia|               1|[500, 250, 100]|  1|   Ph.D|                EECS|UC Berkeley|\n",
      "|  2|Michael Armbrust|               1|     [250, 100]|  0|Masters|School of Informa...|UC Berkeley|\n",
      "|  2|Michael Armbrust|               1|     [250, 100]|  2|Masters|                EECS|UC Berkeley|\n",
      "|  2|Michael Armbrust|               1|     [250, 100]|  1|   Ph.D|                EECS|UC Berkeley|\n",
      "+---+----------------+----------------+---------------+---+-------+--------------------+-----------+\n",
      "\n"
     ]
    }
   ],
   "source": [
    "person.crossJoin(graduateProgram).show()"
   ]
  },
  {
   "cell_type": "markdown",
   "metadata": {},
   "source": [
    "## 3.4 User Defined Function(udf) - 사용자 정의 함수"
   ]
  },
  {
   "cell_type": "code",
   "execution_count": null,
   "metadata": {},
   "outputs": [],
   "source": []
  },
  {
   "cell_type": "markdown",
   "metadata": {},
   "source": [
    "## 3.5 Dataframe bicycle 예제\n",
    "- 문제1 : 년도별 대여건수 합계\n",
    "- 문제2 : 년도별, 월별 대여건수 합계, 그래프\n",
    "- 문제4 : 년도별, 분기별 대여건수 합계, 그래프"
   ]
  },
  {
   "cell_type": "code",
   "execution_count": 48,
   "metadata": {},
   "outputs": [],
   "source": [
    "from datetime import datetime\n",
    "from pyspark.sql.functions import col, udf, desc\n",
    "from pyspark.sql.types import DateType\n",
    "import pyspark.sql.functions as F"
   ]
  },
  {
   "cell_type": "markdown",
   "metadata": {},
   "source": [
    "### 3.4.0 데이터 읽기"
   ]
  },
  {
   "cell_type": "code",
   "execution_count": 36,
   "metadata": {},
   "outputs": [],
   "source": [
    "bicycle = spark.read.format('com.databricks.spark.csv')\\\n",
    ".options(header='true', inferschema='true').load('data/bicycle.csv')"
   ]
  },
  {
   "cell_type": "code",
   "execution_count": 37,
   "metadata": {},
   "outputs": [
    {
     "data": {
      "text/plain": [
       "[Row(date='2018.1.1', count=4950),\n",
       " Row(date='2018.1.2', count=7136),\n",
       " Row(date='2018.1.3', count=7156)]"
      ]
     },
     "execution_count": 37,
     "metadata": {},
     "output_type": "execute_result"
    }
   ],
   "source": [
    "bicycle.take(3)"
   ]
  },
  {
   "cell_type": "code",
   "execution_count": 39,
   "metadata": {},
   "outputs": [
    {
     "name": "stdout",
     "output_type": "stream",
     "text": [
      "+--------+-----+\n",
      "|    date|count|\n",
      "+--------+-----+\n",
      "|2018.1.1| 4950|\n",
      "|2018.1.2| 7136|\n",
      "|2018.1.3| 7156|\n",
      "|2018.1.4| 7102|\n",
      "|2018.1.5| 7705|\n",
      "+--------+-----+\n",
      "only showing top 5 rows\n",
      "\n"
     ]
    }
   ],
   "source": [
    "bicycle.show(5)"
   ]
  },
  {
   "cell_type": "code",
   "execution_count": 40,
   "metadata": {},
   "outputs": [
    {
     "name": "stdout",
     "output_type": "stream",
     "text": [
      "root\n",
      " |-- date: string (nullable = true)\n",
      " |-- count: integer (nullable = true)\n",
      "\n"
     ]
    }
   ],
   "source": [
    "bicycle.printSchema()"
   ]
  },
  {
   "cell_type": "markdown",
   "metadata": {},
   "source": [
    "### 3.4.1 date 형 변환 해주기(string -> datatype)"
   ]
  },
  {
   "cell_type": "code",
   "execution_count": 41,
   "metadata": {},
   "outputs": [],
   "source": [
    "# 사용자 정의 함수 udf(User Defined Function) 생성\n",
    "toDate = udf(lambda x:datetime.strptime(x, '%Y.%m.%d'),DateType())"
   ]
  },
  {
   "cell_type": "code",
   "execution_count": 42,
   "metadata": {},
   "outputs": [],
   "source": [
    "# column 'date'를 새로운 column 'Date' datetype로 변환해서 생성하고, column 'date' 삭제하기\n",
    "bicycle = bicycle.withColumn('Date',toDate(bicycle['date'])).drop(bicycle['date'])"
   ]
  },
  {
   "cell_type": "code",
   "execution_count": 43,
   "metadata": {},
   "outputs": [],
   "source": [
    "# column 'count'를 새로운 column 'Count' integertype으로 변환해서 생성하고, column 'count' 삭제하기\n",
    "bicycle = bicycle.withColumn('Count',bicycle['count'].cast(\"integer\")).drop(bicycle['count'])"
   ]
  },
  {
   "cell_type": "code",
   "execution_count": 45,
   "metadata": {},
   "outputs": [
    {
     "name": "stdout",
     "output_type": "stream",
     "text": [
      "+----------+-----+\n",
      "|      Date|Count|\n",
      "+----------+-----+\n",
      "|2018-01-01| 4950|\n",
      "|2018-01-02| 7136|\n",
      "|2018-01-03| 7156|\n",
      "|2018-01-04| 7102|\n",
      "|2018-01-05| 7705|\n",
      "+----------+-----+\n",
      "only showing top 5 rows\n",
      "\n"
     ]
    }
   ],
   "source": [
    "bicycle.show(5)"
   ]
  },
  {
   "cell_type": "code",
   "execution_count": 44,
   "metadata": {},
   "outputs": [
    {
     "name": "stdout",
     "output_type": "stream",
     "text": [
      "root\n",
      " |-- Date: date (nullable = true)\n",
      " |-- Count: integer (nullable = true)\n",
      "\n"
     ]
    }
   ],
   "source": [
    "bicycle.printSchema()"
   ]
  },
  {
   "cell_type": "markdown",
   "metadata": {},
   "source": [
    "### 문제 1 : 년도별 대여건수 합계"
   ]
  },
  {
   "cell_type": "code",
   "execution_count": 51,
   "metadata": {},
   "outputs": [],
   "source": [
    "# 년도, 분기 ,월 column 생성해주기\n",
    "bicycle = (bicycle\n",
    ".withColumn('year', F.year('date'))\n",
    ".withColumn('quarter', F.quarter('date'))\n",
    ".withColumn('month', F.month('date'))\n",
    "          )"
   ]
  },
  {
   "cell_type": "code",
   "execution_count": 52,
   "metadata": {},
   "outputs": [
    {
     "name": "stdout",
     "output_type": "stream",
     "text": [
      "+----------+-----+----+-------+-----+\n",
      "|      Date|Count|year|quarter|month|\n",
      "+----------+-----+----+-------+-----+\n",
      "|2018-01-01| 4950|2018|      1|    1|\n",
      "|2018-01-02| 7136|2018|      1|    1|\n",
      "|2018-01-03| 7156|2018|      1|    1|\n",
      "|2018-01-04| 7102|2018|      1|    1|\n",
      "|2018-01-05| 7705|2018|      1|    1|\n",
      "+----------+-----+----+-------+-----+\n",
      "only showing top 5 rows\n",
      "\n"
     ]
    }
   ],
   "source": [
    "bicycle.show(5)"
   ]
  },
  {
   "cell_type": "code",
   "execution_count": 53,
   "metadata": {},
   "outputs": [
    {
     "name": "stdout",
     "output_type": "stream",
     "text": [
      "root\n",
      " |-- Date: date (nullable = true)\n",
      " |-- Count: integer (nullable = true)\n",
      " |-- year: integer (nullable = true)\n",
      " |-- quarter: integer (nullable = true)\n",
      " |-- month: integer (nullable = true)\n",
      "\n"
     ]
    }
   ],
   "source": [
    "bicycle.printSchema()"
   ]
  },
  {
   "cell_type": "code",
   "execution_count": 62,
   "metadata": {},
   "outputs": [
    {
     "name": "stdout",
     "output_type": "stream",
     "text": [
      "+----+-----+\n",
      "|year|count|\n",
      "+----+-----+\n",
      "|2018|  365|\n",
      "|2019|  364|\n",
      "|2020|  182|\n",
      "+----+-----+\n",
      "\n"
     ]
    }
   ],
   "source": [
    "bicycle.groupBy('year').count().show()"
   ]
  },
  {
   "cell_type": "code",
   "execution_count": 63,
   "metadata": {},
   "outputs": [],
   "source": [
    "Q1 = bicycle.groupBy('year').agg({\"count\":\"sum\"})"
   ]
  },
  {
   "cell_type": "code",
   "execution_count": 64,
   "metadata": {
    "scrolled": true
   },
   "outputs": [
    {
     "name": "stdout",
     "output_type": "stream",
     "text": [
      "+----+----------+\n",
      "|year|sum(count)|\n",
      "+----+----------+\n",
      "|2018|  10124874|\n",
      "|2019|  19071949|\n",
      "|2020|  10498549|\n",
      "+----+----------+\n",
      "\n"
     ]
    }
   ],
   "source": [
    "Q1.show()"
   ]
  },
  {
   "cell_type": "markdown",
   "metadata": {},
   "source": [
    "### 문제2 : 년도별, 월별 대여건수 합계, 그래프"
   ]
  },
  {
   "cell_type": "code",
   "execution_count": 59,
   "metadata": {},
   "outputs": [
    {
     "name": "stdout",
     "output_type": "stream",
     "text": [
      "+----------+-----+----+-------+-----+\n",
      "|      Date|Count|year|quarter|month|\n",
      "+----------+-----+----+-------+-----+\n",
      "|2018-01-01| 4950|2018|      1|    1|\n",
      "|2018-01-02| 7136|2018|      1|    1|\n",
      "|2018-01-03| 7156|2018|      1|    1|\n",
      "|2018-01-04| 7102|2018|      1|    1|\n",
      "|2018-01-05| 7705|2018|      1|    1|\n",
      "+----------+-----+----+-------+-----+\n",
      "only showing top 5 rows\n",
      "\n"
     ]
    }
   ],
   "source": [
    "bicycle.show(5)"
   ]
  },
  {
   "cell_type": "code",
   "execution_count": 71,
   "metadata": {},
   "outputs": [],
   "source": [
    "Q2 = bicycle.groupBy('year').pivot('month').agg({\"Count\":\"sum\"})"
   ]
  },
  {
   "cell_type": "code",
   "execution_count": 72,
   "metadata": {
    "scrolled": false
   },
   "outputs": [
    {
     "name": "stdout",
     "output_type": "stream",
     "text": [
      "+----+------+------+-------+-------+-------+-------+-------+-------+-------+-------+-------+------+\n",
      "|year|     1|     2|      3|      4|      5|      6|      7|      8|      9|     10|     11|    12|\n",
      "+----+------+------+-------+-------+-------+-------+-------+-------+-------+-------+-------+------+\n",
      "|2018|164367|168741| 462661| 687885| 965609|1207123|1100015|1037505|1447993|1420621| 961532|500822|\n",
      "|2019|495573|471543| 904819|1468000|2232895|2293879|2164086|2101184|2084222|2436401|1537269|882078|\n",
      "|2020|794162|762274|1533535|2157390|2480330|2770858|   null|   null|   null|   null|   null|  null|\n",
      "+----+------+------+-------+-------+-------+-------+-------+-------+-------+-------+-------+------+\n",
      "\n"
     ]
    }
   ],
   "source": [
    "Q2.show()"
   ]
  },
  {
   "cell_type": "code",
   "execution_count": 76,
   "metadata": {},
   "outputs": [],
   "source": [
    "pd = Q2.toPandas()"
   ]
  },
  {
   "cell_type": "code",
   "execution_count": 77,
   "metadata": {},
   "outputs": [
    {
     "data": {
      "text/html": [
       "<div>\n",
       "<style scoped>\n",
       "    .dataframe tbody tr th:only-of-type {\n",
       "        vertical-align: middle;\n",
       "    }\n",
       "\n",
       "    .dataframe tbody tr th {\n",
       "        vertical-align: top;\n",
       "    }\n",
       "\n",
       "    .dataframe thead th {\n",
       "        text-align: right;\n",
       "    }\n",
       "</style>\n",
       "<table border=\"1\" class=\"dataframe\">\n",
       "  <thead>\n",
       "    <tr style=\"text-align: right;\">\n",
       "      <th></th>\n",
       "      <th>year</th>\n",
       "      <th>1</th>\n",
       "      <th>2</th>\n",
       "      <th>3</th>\n",
       "      <th>4</th>\n",
       "      <th>5</th>\n",
       "      <th>6</th>\n",
       "      <th>7</th>\n",
       "      <th>8</th>\n",
       "      <th>9</th>\n",
       "      <th>10</th>\n",
       "      <th>11</th>\n",
       "      <th>12</th>\n",
       "    </tr>\n",
       "  </thead>\n",
       "  <tbody>\n",
       "    <tr>\n",
       "      <th>0</th>\n",
       "      <td>2018</td>\n",
       "      <td>164367</td>\n",
       "      <td>168741</td>\n",
       "      <td>462661</td>\n",
       "      <td>687885</td>\n",
       "      <td>965609</td>\n",
       "      <td>1207123</td>\n",
       "      <td>1100015.0</td>\n",
       "      <td>1037505.0</td>\n",
       "      <td>1447993.0</td>\n",
       "      <td>1420621.0</td>\n",
       "      <td>961532.0</td>\n",
       "      <td>500822.0</td>\n",
       "    </tr>\n",
       "    <tr>\n",
       "      <th>1</th>\n",
       "      <td>2019</td>\n",
       "      <td>495573</td>\n",
       "      <td>471543</td>\n",
       "      <td>904819</td>\n",
       "      <td>1468000</td>\n",
       "      <td>2232895</td>\n",
       "      <td>2293879</td>\n",
       "      <td>2164086.0</td>\n",
       "      <td>2101184.0</td>\n",
       "      <td>2084222.0</td>\n",
       "      <td>2436401.0</td>\n",
       "      <td>1537269.0</td>\n",
       "      <td>882078.0</td>\n",
       "    </tr>\n",
       "    <tr>\n",
       "      <th>2</th>\n",
       "      <td>2020</td>\n",
       "      <td>794162</td>\n",
       "      <td>762274</td>\n",
       "      <td>1533535</td>\n",
       "      <td>2157390</td>\n",
       "      <td>2480330</td>\n",
       "      <td>2770858</td>\n",
       "      <td>NaN</td>\n",
       "      <td>NaN</td>\n",
       "      <td>NaN</td>\n",
       "      <td>NaN</td>\n",
       "      <td>NaN</td>\n",
       "      <td>NaN</td>\n",
       "    </tr>\n",
       "  </tbody>\n",
       "</table>\n",
       "</div>"
      ],
      "text/plain": [
       "   year       1       2        3        4        5        6          7  \\\n",
       "0  2018  164367  168741   462661   687885   965609  1207123  1100015.0   \n",
       "1  2019  495573  471543   904819  1468000  2232895  2293879  2164086.0   \n",
       "2  2020  794162  762274  1533535  2157390  2480330  2770858        NaN   \n",
       "\n",
       "           8          9         10         11        12  \n",
       "0  1037505.0  1447993.0  1420621.0   961532.0  500822.0  \n",
       "1  2101184.0  2084222.0  2436401.0  1537269.0  882078.0  \n",
       "2        NaN        NaN        NaN        NaN       NaN  "
      ]
     },
     "execution_count": 77,
     "metadata": {},
     "output_type": "execute_result"
    }
   ],
   "source": [
    "pd"
   ]
  },
  {
   "cell_type": "code",
   "execution_count": 78,
   "metadata": {},
   "outputs": [],
   "source": [
    "Q2_pd = pd.drop('year',1).transpose()"
   ]
  },
  {
   "cell_type": "code",
   "execution_count": 79,
   "metadata": {},
   "outputs": [
    {
     "data": {
      "text/html": [
       "<div>\n",
       "<style scoped>\n",
       "    .dataframe tbody tr th:only-of-type {\n",
       "        vertical-align: middle;\n",
       "    }\n",
       "\n",
       "    .dataframe tbody tr th {\n",
       "        vertical-align: top;\n",
       "    }\n",
       "\n",
       "    .dataframe thead th {\n",
       "        text-align: right;\n",
       "    }\n",
       "</style>\n",
       "<table border=\"1\" class=\"dataframe\">\n",
       "  <thead>\n",
       "    <tr style=\"text-align: right;\">\n",
       "      <th></th>\n",
       "      <th>0</th>\n",
       "      <th>1</th>\n",
       "      <th>2</th>\n",
       "    </tr>\n",
       "  </thead>\n",
       "  <tbody>\n",
       "    <tr>\n",
       "      <th>1</th>\n",
       "      <td>164367.0</td>\n",
       "      <td>495573.0</td>\n",
       "      <td>794162.0</td>\n",
       "    </tr>\n",
       "    <tr>\n",
       "      <th>2</th>\n",
       "      <td>168741.0</td>\n",
       "      <td>471543.0</td>\n",
       "      <td>762274.0</td>\n",
       "    </tr>\n",
       "    <tr>\n",
       "      <th>3</th>\n",
       "      <td>462661.0</td>\n",
       "      <td>904819.0</td>\n",
       "      <td>1533535.0</td>\n",
       "    </tr>\n",
       "    <tr>\n",
       "      <th>4</th>\n",
       "      <td>687885.0</td>\n",
       "      <td>1468000.0</td>\n",
       "      <td>2157390.0</td>\n",
       "    </tr>\n",
       "    <tr>\n",
       "      <th>5</th>\n",
       "      <td>965609.0</td>\n",
       "      <td>2232895.0</td>\n",
       "      <td>2480330.0</td>\n",
       "    </tr>\n",
       "    <tr>\n",
       "      <th>6</th>\n",
       "      <td>1207123.0</td>\n",
       "      <td>2293879.0</td>\n",
       "      <td>2770858.0</td>\n",
       "    </tr>\n",
       "    <tr>\n",
       "      <th>7</th>\n",
       "      <td>1100015.0</td>\n",
       "      <td>2164086.0</td>\n",
       "      <td>NaN</td>\n",
       "    </tr>\n",
       "    <tr>\n",
       "      <th>8</th>\n",
       "      <td>1037505.0</td>\n",
       "      <td>2101184.0</td>\n",
       "      <td>NaN</td>\n",
       "    </tr>\n",
       "    <tr>\n",
       "      <th>9</th>\n",
       "      <td>1447993.0</td>\n",
       "      <td>2084222.0</td>\n",
       "      <td>NaN</td>\n",
       "    </tr>\n",
       "    <tr>\n",
       "      <th>10</th>\n",
       "      <td>1420621.0</td>\n",
       "      <td>2436401.0</td>\n",
       "      <td>NaN</td>\n",
       "    </tr>\n",
       "    <tr>\n",
       "      <th>11</th>\n",
       "      <td>961532.0</td>\n",
       "      <td>1537269.0</td>\n",
       "      <td>NaN</td>\n",
       "    </tr>\n",
       "    <tr>\n",
       "      <th>12</th>\n",
       "      <td>500822.0</td>\n",
       "      <td>882078.0</td>\n",
       "      <td>NaN</td>\n",
       "    </tr>\n",
       "  </tbody>\n",
       "</table>\n",
       "</div>"
      ],
      "text/plain": [
       "            0          1          2\n",
       "1    164367.0   495573.0   794162.0\n",
       "2    168741.0   471543.0   762274.0\n",
       "3    462661.0   904819.0  1533535.0\n",
       "4    687885.0  1468000.0  2157390.0\n",
       "5    965609.0  2232895.0  2480330.0\n",
       "6   1207123.0  2293879.0  2770858.0\n",
       "7   1100015.0  2164086.0        NaN\n",
       "8   1037505.0  2101184.0        NaN\n",
       "9   1447993.0  2084222.0        NaN\n",
       "10  1420621.0  2436401.0        NaN\n",
       "11   961532.0  1537269.0        NaN\n",
       "12   500822.0   882078.0        NaN"
      ]
     },
     "execution_count": 79,
     "metadata": {},
     "output_type": "execute_result"
    }
   ],
   "source": [
    "Q2_pd"
   ]
  },
  {
   "cell_type": "code",
   "execution_count": 80,
   "metadata": {},
   "outputs": [],
   "source": [
    "Q2_pd.columns=[2018,2019,2020]"
   ]
  },
  {
   "cell_type": "code",
   "execution_count": 81,
   "metadata": {},
   "outputs": [
    {
     "data": {
      "text/plain": [
       "<AxesSubplot:>"
      ]
     },
     "execution_count": 81,
     "metadata": {},
     "output_type": "execute_result"
    },
    {
     "data": {
      "image/png": "[encoded data removed]",
      "text/plain": [
       "<Figure size 432x288 with 1 Axes>"
      ]
     },
     "metadata": {
      "needs_background": "light"
     },
     "output_type": "display_data"
    }
   ],
   "source": [
    "Q2_pd.plot(kind='line')"
   ]
  },
  {
   "cell_type": "markdown",
   "metadata": {},
   "source": [
    "### 문제3 : 년도별, 분기별 대여건수 합계, 그래프"
   ]
  },
  {
   "cell_type": "code",
   "execution_count": 69,
   "metadata": {},
   "outputs": [
    {
     "name": "stdout",
     "output_type": "stream",
     "text": [
      "+----------+-----+----+-------+-----+\n",
      "|      Date|Count|year|quarter|month|\n",
      "+----------+-----+----+-------+-----+\n",
      "|2018-01-01| 4950|2018|      1|    1|\n",
      "|2018-01-02| 7136|2018|      1|    1|\n",
      "|2018-01-03| 7156|2018|      1|    1|\n",
      "|2018-01-04| 7102|2018|      1|    1|\n",
      "|2018-01-05| 7705|2018|      1|    1|\n",
      "+----------+-----+----+-------+-----+\n",
      "only showing top 5 rows\n",
      "\n"
     ]
    }
   ],
   "source": [
    "bicycle.show(5)"
   ]
  },
  {
   "cell_type": "code",
   "execution_count": 73,
   "metadata": {},
   "outputs": [],
   "source": [
    "Q3 = bicycle.groupBy('year').pivot('quarter').agg({\"Count\":\"sum\"})"
   ]
  },
  {
   "cell_type": "code",
   "execution_count": 74,
   "metadata": {},
   "outputs": [
    {
     "name": "stdout",
     "output_type": "stream",
     "text": [
      "+----+-------+-------+-------+-------+\n",
      "|year|      1|      2|      3|      4|\n",
      "+----+-------+-------+-------+-------+\n",
      "|2018| 795769|2860617|3585513|2882975|\n",
      "|2019|1871935|5994774|6349492|4855748|\n",
      "|2020|3089971|7408578|   null|   null|\n",
      "+----+-------+-------+-------+-------+\n",
      "\n"
     ]
    }
   ],
   "source": [
    "Q3.show()"
   ]
  },
  {
   "cell_type": "code",
   "execution_count": 82,
   "metadata": {},
   "outputs": [],
   "source": [
    "pd = Q3.toPandas()"
   ]
  },
  {
   "cell_type": "code",
   "execution_count": 83,
   "metadata": {},
   "outputs": [
    {
     "data": {
      "text/html": [
       "<div>\n",
       "<style scoped>\n",
       "    .dataframe tbody tr th:only-of-type {\n",
       "        vertical-align: middle;\n",
       "    }\n",
       "\n",
       "    .dataframe tbody tr th {\n",
       "        vertical-align: top;\n",
       "    }\n",
       "\n",
       "    .dataframe thead th {\n",
       "        text-align: right;\n",
       "    }\n",
       "</style>\n",
       "<table border=\"1\" class=\"dataframe\">\n",
       "  <thead>\n",
       "    <tr style=\"text-align: right;\">\n",
       "      <th></th>\n",
       "      <th>year</th>\n",
       "      <th>1</th>\n",
       "      <th>2</th>\n",
       "      <th>3</th>\n",
       "      <th>4</th>\n",
       "    </tr>\n",
       "  </thead>\n",
       "  <tbody>\n",
       "    <tr>\n",
       "      <th>0</th>\n",
       "      <td>2018</td>\n",
       "      <td>795769</td>\n",
       "      <td>2860617</td>\n",
       "      <td>3585513.0</td>\n",
       "      <td>2882975.0</td>\n",
       "    </tr>\n",
       "    <tr>\n",
       "      <th>1</th>\n",
       "      <td>2019</td>\n",
       "      <td>1871935</td>\n",
       "      <td>5994774</td>\n",
       "      <td>6349492.0</td>\n",
       "      <td>4855748.0</td>\n",
       "    </tr>\n",
       "    <tr>\n",
       "      <th>2</th>\n",
       "      <td>2020</td>\n",
       "      <td>3089971</td>\n",
       "      <td>7408578</td>\n",
       "      <td>NaN</td>\n",
       "      <td>NaN</td>\n",
       "    </tr>\n",
       "  </tbody>\n",
       "</table>\n",
       "</div>"
      ],
      "text/plain": [
       "   year        1        2          3          4\n",
       "0  2018   795769  2860617  3585513.0  2882975.0\n",
       "1  2019  1871935  5994774  6349492.0  4855748.0\n",
       "2  2020  3089971  7408578        NaN        NaN"
      ]
     },
     "execution_count": 83,
     "metadata": {},
     "output_type": "execute_result"
    }
   ],
   "source": [
    "pd"
   ]
  },
  {
   "cell_type": "code",
   "execution_count": 84,
   "metadata": {},
   "outputs": [],
   "source": [
    "Q3_pd = pd.drop('year',1).transpose()"
   ]
  },
  {
   "cell_type": "code",
   "execution_count": 85,
   "metadata": {},
   "outputs": [
    {
     "data": {
      "text/html": [
       "<div>\n",
       "<style scoped>\n",
       "    .dataframe tbody tr th:only-of-type {\n",
       "        vertical-align: middle;\n",
       "    }\n",
       "\n",
       "    .dataframe tbody tr th {\n",
       "        vertical-align: top;\n",
       "    }\n",
       "\n",
       "    .dataframe thead th {\n",
       "        text-align: right;\n",
       "    }\n",
       "</style>\n",
       "<table border=\"1\" class=\"dataframe\">\n",
       "  <thead>\n",
       "    <tr style=\"text-align: right;\">\n",
       "      <th></th>\n",
       "      <th>0</th>\n",
       "      <th>1</th>\n",
       "      <th>2</th>\n",
       "    </tr>\n",
       "  </thead>\n",
       "  <tbody>\n",
       "    <tr>\n",
       "      <th>1</th>\n",
       "      <td>795769.0</td>\n",
       "      <td>1871935.0</td>\n",
       "      <td>3089971.0</td>\n",
       "    </tr>\n",
       "    <tr>\n",
       "      <th>2</th>\n",
       "      <td>2860617.0</td>\n",
       "      <td>5994774.0</td>\n",
       "      <td>7408578.0</td>\n",
       "    </tr>\n",
       "    <tr>\n",
       "      <th>3</th>\n",
       "      <td>3585513.0</td>\n",
       "      <td>6349492.0</td>\n",
       "      <td>NaN</td>\n",
       "    </tr>\n",
       "    <tr>\n",
       "      <th>4</th>\n",
       "      <td>2882975.0</td>\n",
       "      <td>4855748.0</td>\n",
       "      <td>NaN</td>\n",
       "    </tr>\n",
       "  </tbody>\n",
       "</table>\n",
       "</div>"
      ],
      "text/plain": [
       "           0          1          2\n",
       "1   795769.0  1871935.0  3089971.0\n",
       "2  2860617.0  5994774.0  7408578.0\n",
       "3  3585513.0  6349492.0        NaN\n",
       "4  2882975.0  4855748.0        NaN"
      ]
     },
     "execution_count": 85,
     "metadata": {},
     "output_type": "execute_result"
    }
   ],
   "source": [
    "Q3_pd"
   ]
  },
  {
   "cell_type": "code",
   "execution_count": 86,
   "metadata": {},
   "outputs": [],
   "source": [
    "Q3_pd.columns=[2018,2019,2020]"
   ]
  },
  {
   "cell_type": "code",
   "execution_count": 87,
   "metadata": {},
   "outputs": [
    {
     "data": {
      "text/plain": [
       "<AxesSubplot:>"
      ]
     },
     "execution_count": 87,
     "metadata": {},
     "output_type": "execute_result"
    },
    {
     "data": {
      "image/png": "[encoded data removed]",
      "text/plain": [
       "<Figure size 432x288 with 1 Axes>"
      ]
     },
     "metadata": {
      "needs_background": "light"
     },
     "output_type": "display_data"
    }
   ],
   "source": [
    "Q3_pd.plot(kind='line')"
   ]
  },
  {
   "cell_type": "code",
   "execution_count": null,
   "metadata": {},
   "outputs": [],
   "source": []
  }
 ],
 "metadata": {
  "kernelspec": {
   "display_name": "Python 3",
   "language": "python",
   "name": "python3"
  },
  "language_info": {
   "codemirror_mode": {
    "name": "ipython",
    "version": 3
   },
   "file_extension": ".py",
   "mimetype": "text/x-python",
   "name": "python",
   "nbconvert_exporter": "python",
   "pygments_lexer": "ipython3",
   "version": "3.8.6"
  }
 },
 "nbformat": 4,
 "nbformat_minor": 4
}
