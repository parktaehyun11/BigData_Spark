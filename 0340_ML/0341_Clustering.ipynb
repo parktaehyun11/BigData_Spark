{
 "cells": [
  {
   "cell_type": "markdown",
   "metadata": {},
   "source": [
    "# 1. 클러스터링\n",
    "- Unsupervised Learning 기법입니다.\n",
    "- 훈련 없이, 데이터를 그룹화하거나 클러스터로 군집화 하게 됩니다.\n",
    "- 데이터를 특징에 따라 보다 가까운 클러스터로 할당해 묶게 된다.\n",
    "- example\n",
    "    - 소비자를 서로 다른 특징을 가진 segment로 분류해 마케팅에 적용 할 수 있습니다.\n",
    "    - 병원에서 환자 특징 분류해서, 환자의 진단에 활용하기도 합니다.\n",
    " "
   ]
  },
  {
   "cell_type": "markdown",
   "metadata": {},
   "source": [
    "# 2. 클러스터링 종류"
   ]
  },
  {
   "cell_type": "markdown",
   "metadata": {},
   "source": [
    "## 2.1 분할 클러스터링(Partitioning Clustering)\n",
    "- 클러스터의 개수 k를 미리 정하고, 데이터를 k의 그룹으로 구분합니다.\n",
    "- 그룹은 분리되어 있고, 하나의 데이터는 하나의 그룹에만 속해 있을 수 있습니다.\n",
    "- 데이터의 평균으로 계산된 중심점을 가지게 됩니다.\n",
    "- k-Means 가 대표적인 분할 클러스터링입니다.\n",
    "\n",
    "\n",
    "## 2.2 계층 클러스터링(Hierarchical Clustering)\n",
    "- 미리 클러스터의 개수를 지정할 필요가 없습니다.\n",
    "- Dendrogram 이라고 하는 나무 가지 모양으로 데이터를 구분합니다.\n",
    "\n",
    "## 2.3 밀집도 기반 클러스터링(Density-based Clustering)\n",
    "- 특정 지역에서의 밀집 정도에 따라 클러스터를 구분하는 기법입니다.\n",
    "- 클러스터의 개수를 미리 지정할 필요가 없습니다.\n",
    "- DBSCAN 이 밀집도 기반 클러스터링의 예시입니다."
   ]
  },
  {
   "cell_type": "markdown",
   "metadata": {},
   "source": [
    "# 3. k-Means\n"
   ]
  },
  {
   "cell_type": "markdown",
   "metadata": {},
   "source": [
    "## 3.1 알고리즘\n",
    "- 군집의 갯수 k를 정하고, 중심점$C_k$을 정합니다. 이 중심점은 반복하면서 갱신하게 됩니다.\n",
    "- 반복\n",
    "    - 할당 단계: \n",
    "        - 각 데이터 항목을 중심점과 얼마나 멀리 있는지 계산하여, 클러스터에 할당\n",
    "    - 갱신 단계:\n",
    "        - 현재 클러스터에 할당된 데이터로의 평균을 계산하여 새로운 클러스터 $C_k$의 중심점$m_k$를 설정\n",
    "    - 종료 단계:\n",
    "        - 갱신이 더 이상 없으면 종료"
   ]
  },
  {
   "cell_type": "markdown",
   "metadata": {},
   "source": [
    "## 3.2 구현\n",
    "\n",
    "**데이터**\n",
    "\n",
    "구분 | 1 | 2 | 3 | 4 | 5 | 6 | 7 | 8 | 9 | 10 | 11 |\n",
    "--|---|---|---|---|---|---|---|---|---|---|---|\n",
    "x | 2 | 3 | 2 | 3 | 4 | 5 | 7 | 8 | 9 | 8 | 7 | \n",
    "y | 5 | 6 | 4 | 5 | 5 | 7 | 2 | 3 | 4 | 4 | 3 |"
   ]
  },
  {
   "cell_type": "markdown",
   "metadata": {},
   "source": [
    "### 3.2.0 데이터 구성하기"
   ]
  },
  {
   "cell_type": "code",
   "execution_count": 5,
   "metadata": {},
   "outputs": [],
   "source": [
    "import numpy as np\n",
    "x = np.array([[2,5],[3,6],[2,4],[3,5],[4,5],[5,7],[7,2],[8,3],[9,4],[8,4],[7,3]])"
   ]
  },
  {
   "cell_type": "code",
   "execution_count": 6,
   "metadata": {},
   "outputs": [],
   "source": [
    "xRdd = spark.sparkContext.parallelize(x)"
   ]
  },
  {
   "cell_type": "code",
   "execution_count": 8,
   "metadata": {},
   "outputs": [
    {
     "data": {
      "text/plain": [
       "[array([2, 5]),\n",
       " array([3, 6]),\n",
       " array([2, 4]),\n",
       " array([3, 5]),\n",
       " array([4, 5]),\n",
       " array([5, 7]),\n",
       " array([7, 2]),\n",
       " array([8, 3]),\n",
       " array([9, 4]),\n",
       " array([8, 4]),\n",
       " array([7, 3])]"
      ]
     },
     "execution_count": 8,
     "metadata": {},
     "output_type": "execute_result"
    }
   ],
   "source": [
    "xRdd.collect()"
   ]
  },
  {
   "cell_type": "code",
   "execution_count": 10,
   "metadata": {},
   "outputs": [],
   "source": [
    "# 정수형으로 변경\n",
    "kmeans_Rdd = xRdd.map(lambda x: [int(i) for i in x])"
   ]
  },
  {
   "cell_type": "code",
   "execution_count": 11,
   "metadata": {
    "scrolled": true
   },
   "outputs": [
    {
     "data": {
      "text/plain": [
       "[[2, 5],\n",
       " [3, 6],\n",
       " [2, 4],\n",
       " [3, 5],\n",
       " [4, 5],\n",
       " [5, 7],\n",
       " [7, 2],\n",
       " [8, 3],\n",
       " [9, 4],\n",
       " [8, 4],\n",
       " [7, 3]]"
      ]
     },
     "execution_count": 11,
     "metadata": {},
     "output_type": "execute_result"
    }
   ],
   "source": [
    "kmeans_Rdd.collect()"
   ]
  },
  {
   "cell_type": "code",
   "execution_count": 12,
   "metadata": {
    "scrolled": false
   },
   "outputs": [
    {
     "name": "stdout",
     "output_type": "stream",
     "text": [
      "+---+---+\n",
      "|  x|  y|\n",
      "+---+---+\n",
      "|  2|  5|\n",
      "|  3|  6|\n",
      "|  2|  4|\n",
      "|  3|  5|\n",
      "|  4|  5|\n",
      "|  5|  7|\n",
      "|  7|  2|\n",
      "|  8|  3|\n",
      "|  9|  4|\n",
      "|  8|  4|\n",
      "|  7|  3|\n",
      "+---+---+\n",
      "\n"
     ]
    }
   ],
   "source": [
    "kmeans_Df = kmeans_Rdd.toDF([\"x\",\"y\"])\n",
    "kmeans_Df.show()"
   ]
  },
  {
   "cell_type": "markdown",
   "metadata": {},
   "source": [
    "### 3.2.1 Features 설정\n",
    "- 클러스터링에 쓰이게 될 속성을 `VectorAssembler`로 묶어서 `features` 컬럼을 생성해주겠습니다."
   ]
  },
  {
   "cell_type": "code",
   "execution_count": 13,
   "metadata": {},
   "outputs": [],
   "source": [
    "from pyspark.ml.feature import VectorAssembler\n",
    "\n",
    "va = VectorAssembler(inputCols=[\"x\",\"y\"],outputCol=\"features\")"
   ]
  },
  {
   "cell_type": "code",
   "execution_count": 14,
   "metadata": {},
   "outputs": [],
   "source": [
    "kmeans_Df1 = va.transform(kmeans_Df)"
   ]
  },
  {
   "cell_type": "code",
   "execution_count": 15,
   "metadata": {},
   "outputs": [
    {
     "name": "stdout",
     "output_type": "stream",
     "text": [
      "root\n",
      " |-- x: long (nullable = true)\n",
      " |-- y: long (nullable = true)\n",
      " |-- features: vector (nullable = true)\n",
      "\n"
     ]
    }
   ],
   "source": [
    "kmeans_Df1.printSchema()"
   ]
  },
  {
   "cell_type": "code",
   "execution_count": 16,
   "metadata": {},
   "outputs": [
    {
     "name": "stdout",
     "output_type": "stream",
     "text": [
      "+---+---+---------+\n",
      "|  x|  y| features|\n",
      "+---+---+---------+\n",
      "|  2|  5|[2.0,5.0]|\n",
      "|  3|  6|[3.0,6.0]|\n",
      "|  2|  4|[2.0,4.0]|\n",
      "|  3|  5|[3.0,5.0]|\n",
      "|  4|  5|[4.0,5.0]|\n",
      "+---+---+---------+\n",
      "only showing top 5 rows\n",
      "\n"
     ]
    }
   ],
   "source": [
    "kmeans_Df1.show(5)"
   ]
  },
  {
   "cell_type": "markdown",
   "metadata": {},
   "source": [
    "### 3.2.2 k-means 클러스터링"
   ]
  },
  {
   "cell_type": "code",
   "execution_count": 17,
   "metadata": {},
   "outputs": [],
   "source": [
    "from pyspark.ml.clustering import KMeans\n",
    "\n",
    "kmeans = KMeans(k=2)"
   ]
  },
  {
   "cell_type": "code",
   "execution_count": 18,
   "metadata": {},
   "outputs": [],
   "source": [
    "model = kmeans.fit(kmeans_Df1)"
   ]
  },
  {
   "cell_type": "markdown",
   "metadata": {},
   "source": [
    "### 3.2.3 클러스터 중심점"
   ]
  },
  {
   "cell_type": "code",
   "execution_count": 34,
   "metadata": {},
   "outputs": [
    {
     "name": "stdout",
     "output_type": "stream",
     "text": [
      "[array([7.8, 3.2]), array([3.16666667, 5.33333333])]\n"
     ]
    }
   ],
   "source": [
    "print(model.clusterCenters())\n",
    "centroids = model.clusterCenters()"
   ]
  },
  {
   "cell_type": "code",
   "execution_count": 35,
   "metadata": {},
   "outputs": [],
   "source": [
    "centroids = np.array(centroids)"
   ]
  },
  {
   "cell_type": "code",
   "execution_count": 36,
   "metadata": {},
   "outputs": [
    {
     "data": {
      "text/plain": [
       "<matplotlib.collections.PathCollection at 0x1210b23d0>"
      ]
     },
     "execution_count": 36,
     "metadata": {},
     "output_type": "execute_result"
    },
    {
     "data": {
      "image/png": "[encoded data removed]",
      "text/plain": [
       "<Figure size 432x288 with 1 Axes>"
      ]
     },
     "metadata": {
      "needs_background": "light"
     },
     "output_type": "display_data"
    }
   ],
   "source": [
    "%matplotlib inline\n",
    "import matplotlib.pyplot as plt\n",
    "\n",
    "plt.scatter(x[:,0],x[:,1],color='blue')\n",
    "plt.scatter(centroids[:,0],centroids[:,1],color='red')"
   ]
  },
  {
   "cell_type": "markdown",
   "metadata": {},
   "source": [
    "## 3.3 예제: iris 데이터 클러스터링 - RDD로 생성"
   ]
  },
  {
   "cell_type": "markdown",
   "metadata": {},
   "source": [
    "### 3.3.0 데이터 불러오기"
   ]
  },
  {
   "cell_type": "code",
   "execution_count": 37,
   "metadata": {},
   "outputs": [],
   "source": [
    "from sklearn import datasets\n",
    "\n",
    "data = datasets.load_iris()"
   ]
  },
  {
   "cell_type": "code",
   "execution_count": 39,
   "metadata": {},
   "outputs": [],
   "source": [
    "data = data['data']"
   ]
  },
  {
   "cell_type": "markdown",
   "metadata": {},
   "source": [
    "### 3.3.1 RDD 생성"
   ]
  },
  {
   "cell_type": "code",
   "execution_count": 42,
   "metadata": {},
   "outputs": [],
   "source": [
    "dataRdd = spark.sparkContext.parallelize(data)"
   ]
  },
  {
   "cell_type": "code",
   "execution_count": 43,
   "metadata": {},
   "outputs": [
    {
     "data": {
      "text/plain": [
       "[array([5.1, 3.5, 1.4, 0.2]),\n",
       " array([4.9, 3. , 1.4, 0.2]),\n",
       " array([4.7, 3.2, 1.3, 0.2])]"
      ]
     },
     "execution_count": 43,
     "metadata": {},
     "output_type": "execute_result"
    }
   ],
   "source": [
    "dataRdd.take(3)"
   ]
  },
  {
   "cell_type": "markdown",
   "metadata": {},
   "source": [
    "### 3.3.2 형변환"
   ]
  },
  {
   "cell_type": "code",
   "execution_count": 44,
   "metadata": {},
   "outputs": [],
   "source": [
    "dataRdd = dataRdd.map(lambda x: [float(i) for i in x])"
   ]
  },
  {
   "cell_type": "code",
   "execution_count": 45,
   "metadata": {},
   "outputs": [
    {
     "data": {
      "text/plain": [
       "[[5.1, 3.5, 1.4, 0.2], [4.9, 3.0, 1.4, 0.2], [4.7, 3.2, 1.3, 0.2]]"
      ]
     },
     "execution_count": 45,
     "metadata": {},
     "output_type": "execute_result"
    }
   ],
   "source": [
    "dataRdd.take(3)"
   ]
  },
  {
   "cell_type": "markdown",
   "metadata": {},
   "source": [
    "### 3.3.3 k-Means 모델링\n"
   ]
  },
  {
   "cell_type": "code",
   "execution_count": 47,
   "metadata": {},
   "outputs": [],
   "source": [
    "from pyspark.mllib.clustering import KMeans\n",
    "\n",
    "model = KMeans.train(dataRdd, k = 2, maxIterations=10)"
   ]
  },
  {
   "cell_type": "code",
   "execution_count": 48,
   "metadata": {},
   "outputs": [
    {
     "data": {
      "text/plain": [
       "[array([6.30103093, 2.88659794, 4.95876289, 1.69587629]),\n",
       " array([5.00566038, 3.36981132, 1.56037736, 0.29056604])]"
      ]
     },
     "execution_count": 48,
     "metadata": {},
     "output_type": "execute_result"
    }
   ],
   "source": [
    "model.clusterCenters"
   ]
  },
  {
   "cell_type": "markdown",
   "metadata": {},
   "source": [
    "## 3.4 예제: iris 데이터 클러스터링 - DataFrame으로 생성"
   ]
  },
  {
   "cell_type": "markdown",
   "metadata": {},
   "source": [
    "### 3.4.0 데이터 불러오기"
   ]
  },
  {
   "cell_type": "code",
   "execution_count": 51,
   "metadata": {},
   "outputs": [],
   "source": [
    "file_name = \"https://archive.ics.uci.edu/ml/machine-learning-databases/iris/iris.data\""
   ]
  },
  {
   "cell_type": "code",
   "execution_count": 52,
   "metadata": {},
   "outputs": [],
   "source": [
    "import pandas as pd\n",
    "iris = pd.read_csv(file_name, names=[\"sepal_length\",\"sepal_width\",\"petal_length\", \"petal_width\",\"species\"])"
   ]
  },
  {
   "cell_type": "markdown",
   "metadata": {},
   "source": [
    "### 3.4.1 DataFrame 생성"
   ]
  },
  {
   "cell_type": "code",
   "execution_count": 54,
   "metadata": {},
   "outputs": [],
   "source": [
    "irisDf = spark.createDataFrame(iris)"
   ]
  },
  {
   "cell_type": "code",
   "execution_count": 55,
   "metadata": {},
   "outputs": [
    {
     "name": "stdout",
     "output_type": "stream",
     "text": [
      "+-------+------------------+------------------+------------------+------------------+--------------+\n",
      "|summary|      sepal_length|       sepal_width|      petal_length|       petal_width|       species|\n",
      "+-------+------------------+------------------+------------------+------------------+--------------+\n",
      "|  count|               150|               150|               150|               150|           150|\n",
      "|   mean| 5.843333333333334|             3.054| 3.758666666666667|1.1986666666666665|          null|\n",
      "| stddev|0.8280661279778629|0.4335943113621736|1.7644204199522624|0.7631607417008411|          null|\n",
      "|    min|               4.3|               2.0|               1.0|               0.1|   Iris-setosa|\n",
      "|    max|               7.9|               4.4|               6.9|               2.5|Iris-virginica|\n",
      "+-------+------------------+------------------+------------------+------------------+--------------+\n",
      "\n"
     ]
    }
   ],
   "source": [
    "irisDf.describe().show()"
   ]
  },
  {
   "cell_type": "markdown",
   "metadata": {},
   "source": [
    "### 3.4.2 features 생성"
   ]
  },
  {
   "cell_type": "code",
   "execution_count": 56,
   "metadata": {},
   "outputs": [],
   "source": [
    "from pyspark.ml.feature import VectorAssembler\n",
    "\n",
    "va = VectorAssembler(inputCols=[\"sepal_length\", \"sepal_width\", \"petal_length\", \"petal_width\"], outputCol=\"features\")\n",
    "irisDf1 = va.transform(irisDf)"
   ]
  },
  {
   "cell_type": "code",
   "execution_count": 57,
   "metadata": {
    "scrolled": true
   },
   "outputs": [
    {
     "name": "stdout",
     "output_type": "stream",
     "text": [
      "root\n",
      " |-- sepal_length: double (nullable = true)\n",
      " |-- sepal_width: double (nullable = true)\n",
      " |-- petal_length: double (nullable = true)\n",
      " |-- petal_width: double (nullable = true)\n",
      " |-- species: string (nullable = true)\n",
      " |-- features: vector (nullable = true)\n",
      "\n"
     ]
    }
   ],
   "source": [
    "irisDf1.printSchema()"
   ]
  },
  {
   "cell_type": "code",
   "execution_count": 58,
   "metadata": {
    "scrolled": true
   },
   "outputs": [
    {
     "name": "stdout",
     "output_type": "stream",
     "text": [
      "+------------+-----------+------------+-----------+-----------+-----------------+\n",
      "|sepal_length|sepal_width|petal_length|petal_width|    species|         features|\n",
      "+------------+-----------+------------+-----------+-----------+-----------------+\n",
      "|         5.1|        3.5|         1.4|        0.2|Iris-setosa|[5.1,3.5,1.4,0.2]|\n",
      "|         4.9|        3.0|         1.4|        0.2|Iris-setosa|[4.9,3.0,1.4,0.2]|\n",
      "|         4.7|        3.2|         1.3|        0.2|Iris-setosa|[4.7,3.2,1.3,0.2]|\n",
      "+------------+-----------+------------+-----------+-----------+-----------------+\n",
      "only showing top 3 rows\n",
      "\n"
     ]
    }
   ],
   "source": [
    "irisDf1.show(3)"
   ]
  },
  {
   "cell_type": "markdown",
   "metadata": {},
   "source": [
    "### 3.4.3 k-Means 모델링"
   ]
  },
  {
   "cell_type": "code",
   "execution_count": 66,
   "metadata": {},
   "outputs": [],
   "source": [
    "from pyspark.ml.clustering import KMeans\n",
    "kmeans = (KMeans(k=3)\n",
    "          .setFeaturesCol(\"features\")\n",
    "          .setPredictionCol(\"cluster\")\n",
    "         )"
   ]
  },
  {
   "cell_type": "code",
   "execution_count": 67,
   "metadata": {},
   "outputs": [],
   "source": [
    "model = kmeans.fit(irisDf1)"
   ]
  },
  {
   "cell_type": "code",
   "execution_count": 68,
   "metadata": {},
   "outputs": [
    {
     "name": "stdout",
     "output_type": "stream",
     "text": [
      "[array([5.9016129 , 2.7483871 , 4.39354839, 1.43387097]), array([5.006, 3.418, 1.464, 0.244]), array([6.85      , 3.07368421, 5.74210526, 2.07105263])]\n"
     ]
    }
   ],
   "source": [
    "print (model.clusterCenters())"
   ]
  },
  {
   "cell_type": "code",
   "execution_count": 69,
   "metadata": {},
   "outputs": [
    {
     "name": "stdout",
     "output_type": "stream",
     "text": [
      "+------------+-----------+------------+-----------+---------------+-----------------+-------+\n",
      "|sepal_length|sepal_width|petal_length|petal_width|        species|         features|cluster|\n",
      "+------------+-----------+------------+-----------+---------------+-----------------+-------+\n",
      "|         5.1|        3.5|         1.4|        0.2|    Iris-setosa|[5.1,3.5,1.4,0.2]|      1|\n",
      "|         4.9|        3.0|         1.4|        0.2|    Iris-setosa|[4.9,3.0,1.4,0.2]|      1|\n",
      "|         4.7|        3.2|         1.3|        0.2|    Iris-setosa|[4.7,3.2,1.3,0.2]|      1|\n",
      "|         4.6|        3.1|         1.5|        0.2|    Iris-setosa|[4.6,3.1,1.5,0.2]|      1|\n",
      "|         5.0|        3.6|         1.4|        0.2|    Iris-setosa|[5.0,3.6,1.4,0.2]|      1|\n",
      "|         5.4|        3.9|         1.7|        0.4|    Iris-setosa|[5.4,3.9,1.7,0.4]|      1|\n",
      "|         4.6|        3.4|         1.4|        0.3|    Iris-setosa|[4.6,3.4,1.4,0.3]|      1|\n",
      "|         5.0|        3.4|         1.5|        0.2|    Iris-setosa|[5.0,3.4,1.5,0.2]|      1|\n",
      "|         4.4|        2.9|         1.4|        0.2|    Iris-setosa|[4.4,2.9,1.4,0.2]|      1|\n",
      "|         4.9|        3.1|         1.5|        0.1|    Iris-setosa|[4.9,3.1,1.5,0.1]|      1|\n",
      "|         5.4|        3.7|         1.5|        0.2|    Iris-setosa|[5.4,3.7,1.5,0.2]|      1|\n",
      "|         4.8|        3.4|         1.6|        0.2|    Iris-setosa|[4.8,3.4,1.6,0.2]|      1|\n",
      "|         4.8|        3.0|         1.4|        0.1|    Iris-setosa|[4.8,3.0,1.4,0.1]|      1|\n",
      "|         4.3|        3.0|         1.1|        0.1|    Iris-setosa|[4.3,3.0,1.1,0.1]|      1|\n",
      "|         5.8|        4.0|         1.2|        0.2|    Iris-setosa|[5.8,4.0,1.2,0.2]|      1|\n",
      "|         5.7|        4.4|         1.5|        0.4|    Iris-setosa|[5.7,4.4,1.5,0.4]|      1|\n",
      "|         5.4|        3.9|         1.3|        0.4|    Iris-setosa|[5.4,3.9,1.3,0.4]|      1|\n",
      "|         5.1|        3.5|         1.4|        0.3|    Iris-setosa|[5.1,3.5,1.4,0.3]|      1|\n",
      "|         5.7|        3.8|         1.7|        0.3|    Iris-setosa|[5.7,3.8,1.7,0.3]|      1|\n",
      "|         5.1|        3.8|         1.5|        0.3|    Iris-setosa|[5.1,3.8,1.5,0.3]|      1|\n",
      "|         5.4|        3.4|         1.7|        0.2|    Iris-setosa|[5.4,3.4,1.7,0.2]|      1|\n",
      "|         5.1|        3.7|         1.5|        0.4|    Iris-setosa|[5.1,3.7,1.5,0.4]|      1|\n",
      "|         4.6|        3.6|         1.0|        0.2|    Iris-setosa|[4.6,3.6,1.0,0.2]|      1|\n",
      "|         5.1|        3.3|         1.7|        0.5|    Iris-setosa|[5.1,3.3,1.7,0.5]|      1|\n",
      "|         4.8|        3.4|         1.9|        0.2|    Iris-setosa|[4.8,3.4,1.9,0.2]|      1|\n",
      "|         5.0|        3.0|         1.6|        0.2|    Iris-setosa|[5.0,3.0,1.6,0.2]|      1|\n",
      "|         5.0|        3.4|         1.6|        0.4|    Iris-setosa|[5.0,3.4,1.6,0.4]|      1|\n",
      "|         5.2|        3.5|         1.5|        0.2|    Iris-setosa|[5.2,3.5,1.5,0.2]|      1|\n",
      "|         5.2|        3.4|         1.4|        0.2|    Iris-setosa|[5.2,3.4,1.4,0.2]|      1|\n",
      "|         4.7|        3.2|         1.6|        0.2|    Iris-setosa|[4.7,3.2,1.6,0.2]|      1|\n",
      "|         4.8|        3.1|         1.6|        0.2|    Iris-setosa|[4.8,3.1,1.6,0.2]|      1|\n",
      "|         5.4|        3.4|         1.5|        0.4|    Iris-setosa|[5.4,3.4,1.5,0.4]|      1|\n",
      "|         5.2|        4.1|         1.5|        0.1|    Iris-setosa|[5.2,4.1,1.5,0.1]|      1|\n",
      "|         5.5|        4.2|         1.4|        0.2|    Iris-setosa|[5.5,4.2,1.4,0.2]|      1|\n",
      "|         4.9|        3.1|         1.5|        0.1|    Iris-setosa|[4.9,3.1,1.5,0.1]|      1|\n",
      "|         5.0|        3.2|         1.2|        0.2|    Iris-setosa|[5.0,3.2,1.2,0.2]|      1|\n",
      "|         5.5|        3.5|         1.3|        0.2|    Iris-setosa|[5.5,3.5,1.3,0.2]|      1|\n",
      "|         4.9|        3.1|         1.5|        0.1|    Iris-setosa|[4.9,3.1,1.5,0.1]|      1|\n",
      "|         4.4|        3.0|         1.3|        0.2|    Iris-setosa|[4.4,3.0,1.3,0.2]|      1|\n",
      "|         5.1|        3.4|         1.5|        0.2|    Iris-setosa|[5.1,3.4,1.5,0.2]|      1|\n",
      "|         5.0|        3.5|         1.3|        0.3|    Iris-setosa|[5.0,3.5,1.3,0.3]|      1|\n",
      "|         4.5|        2.3|         1.3|        0.3|    Iris-setosa|[4.5,2.3,1.3,0.3]|      1|\n",
      "|         4.4|        3.2|         1.3|        0.2|    Iris-setosa|[4.4,3.2,1.3,0.2]|      1|\n",
      "|         5.0|        3.5|         1.6|        0.6|    Iris-setosa|[5.0,3.5,1.6,0.6]|      1|\n",
      "|         5.1|        3.8|         1.9|        0.4|    Iris-setosa|[5.1,3.8,1.9,0.4]|      1|\n",
      "|         4.8|        3.0|         1.4|        0.3|    Iris-setosa|[4.8,3.0,1.4,0.3]|      1|\n",
      "|         5.1|        3.8|         1.6|        0.2|    Iris-setosa|[5.1,3.8,1.6,0.2]|      1|\n",
      "|         4.6|        3.2|         1.4|        0.2|    Iris-setosa|[4.6,3.2,1.4,0.2]|      1|\n",
      "|         5.3|        3.7|         1.5|        0.2|    Iris-setosa|[5.3,3.7,1.5,0.2]|      1|\n",
      "|         5.0|        3.3|         1.4|        0.2|    Iris-setosa|[5.0,3.3,1.4,0.2]|      1|\n",
      "|         7.0|        3.2|         4.7|        1.4|Iris-versicolor|[7.0,3.2,4.7,1.4]|      0|\n",
      "|         6.4|        3.2|         4.5|        1.5|Iris-versicolor|[6.4,3.2,4.5,1.5]|      0|\n",
      "|         6.9|        3.1|         4.9|        1.5|Iris-versicolor|[6.9,3.1,4.9,1.5]|      2|\n",
      "|         5.5|        2.3|         4.0|        1.3|Iris-versicolor|[5.5,2.3,4.0,1.3]|      0|\n",
      "|         6.5|        2.8|         4.6|        1.5|Iris-versicolor|[6.5,2.8,4.6,1.5]|      0|\n",
      "|         5.7|        2.8|         4.5|        1.3|Iris-versicolor|[5.7,2.8,4.5,1.3]|      0|\n",
      "|         6.3|        3.3|         4.7|        1.6|Iris-versicolor|[6.3,3.3,4.7,1.6]|      0|\n",
      "|         4.9|        2.4|         3.3|        1.0|Iris-versicolor|[4.9,2.4,3.3,1.0]|      0|\n",
      "|         6.6|        2.9|         4.6|        1.3|Iris-versicolor|[6.6,2.9,4.6,1.3]|      0|\n",
      "|         5.2|        2.7|         3.9|        1.4|Iris-versicolor|[5.2,2.7,3.9,1.4]|      0|\n",
      "|         5.0|        2.0|         3.5|        1.0|Iris-versicolor|[5.0,2.0,3.5,1.0]|      0|\n",
      "|         5.9|        3.0|         4.2|        1.5|Iris-versicolor|[5.9,3.0,4.2,1.5]|      0|\n",
      "|         6.0|        2.2|         4.0|        1.0|Iris-versicolor|[6.0,2.2,4.0,1.0]|      0|\n",
      "|         6.1|        2.9|         4.7|        1.4|Iris-versicolor|[6.1,2.9,4.7,1.4]|      0|\n",
      "|         5.6|        2.9|         3.6|        1.3|Iris-versicolor|[5.6,2.9,3.6,1.3]|      0|\n",
      "|         6.7|        3.1|         4.4|        1.4|Iris-versicolor|[6.7,3.1,4.4,1.4]|      0|\n",
      "|         5.6|        3.0|         4.5|        1.5|Iris-versicolor|[5.6,3.0,4.5,1.5]|      0|\n",
      "|         5.8|        2.7|         4.1|        1.0|Iris-versicolor|[5.8,2.7,4.1,1.0]|      0|\n",
      "|         6.2|        2.2|         4.5|        1.5|Iris-versicolor|[6.2,2.2,4.5,1.5]|      0|\n",
      "|         5.6|        2.5|         3.9|        1.1|Iris-versicolor|[5.6,2.5,3.9,1.1]|      0|\n",
      "|         5.9|        3.2|         4.8|        1.8|Iris-versicolor|[5.9,3.2,4.8,1.8]|      0|\n",
      "|         6.1|        2.8|         4.0|        1.3|Iris-versicolor|[6.1,2.8,4.0,1.3]|      0|\n",
      "|         6.3|        2.5|         4.9|        1.5|Iris-versicolor|[6.3,2.5,4.9,1.5]|      0|\n",
      "|         6.1|        2.8|         4.7|        1.2|Iris-versicolor|[6.1,2.8,4.7,1.2]|      0|\n",
      "|         6.4|        2.9|         4.3|        1.3|Iris-versicolor|[6.4,2.9,4.3,1.3]|      0|\n",
      "|         6.6|        3.0|         4.4|        1.4|Iris-versicolor|[6.6,3.0,4.4,1.4]|      0|\n",
      "|         6.8|        2.8|         4.8|        1.4|Iris-versicolor|[6.8,2.8,4.8,1.4]|      0|\n",
      "|         6.7|        3.0|         5.0|        1.7|Iris-versicolor|[6.7,3.0,5.0,1.7]|      2|\n",
      "|         6.0|        2.9|         4.5|        1.5|Iris-versicolor|[6.0,2.9,4.5,1.5]|      0|\n",
      "|         5.7|        2.6|         3.5|        1.0|Iris-versicolor|[5.7,2.6,3.5,1.0]|      0|\n",
      "|         5.5|        2.4|         3.8|        1.1|Iris-versicolor|[5.5,2.4,3.8,1.1]|      0|\n",
      "|         5.5|        2.4|         3.7|        1.0|Iris-versicolor|[5.5,2.4,3.7,1.0]|      0|\n",
      "|         5.8|        2.7|         3.9|        1.2|Iris-versicolor|[5.8,2.7,3.9,1.2]|      0|\n",
      "|         6.0|        2.7|         5.1|        1.6|Iris-versicolor|[6.0,2.7,5.1,1.6]|      0|\n",
      "|         5.4|        3.0|         4.5|        1.5|Iris-versicolor|[5.4,3.0,4.5,1.5]|      0|\n",
      "|         6.0|        3.4|         4.5|        1.6|Iris-versicolor|[6.0,3.4,4.5,1.6]|      0|\n",
      "|         6.7|        3.1|         4.7|        1.5|Iris-versicolor|[6.7,3.1,4.7,1.5]|      0|\n",
      "|         6.3|        2.3|         4.4|        1.3|Iris-versicolor|[6.3,2.3,4.4,1.3]|      0|\n",
      "|         5.6|        3.0|         4.1|        1.3|Iris-versicolor|[5.6,3.0,4.1,1.3]|      0|\n",
      "|         5.5|        2.5|         4.0|        1.3|Iris-versicolor|[5.5,2.5,4.0,1.3]|      0|\n",
      "|         5.5|        2.6|         4.4|        1.2|Iris-versicolor|[5.5,2.6,4.4,1.2]|      0|\n",
      "|         6.1|        3.0|         4.6|        1.4|Iris-versicolor|[6.1,3.0,4.6,1.4]|      0|\n",
      "|         5.8|        2.6|         4.0|        1.2|Iris-versicolor|[5.8,2.6,4.0,1.2]|      0|\n",
      "|         5.0|        2.3|         3.3|        1.0|Iris-versicolor|[5.0,2.3,3.3,1.0]|      0|\n",
      "|         5.6|        2.7|         4.2|        1.3|Iris-versicolor|[5.6,2.7,4.2,1.3]|      0|\n",
      "|         5.7|        3.0|         4.2|        1.2|Iris-versicolor|[5.7,3.0,4.2,1.2]|      0|\n",
      "|         5.7|        2.9|         4.2|        1.3|Iris-versicolor|[5.7,2.9,4.2,1.3]|      0|\n",
      "|         6.2|        2.9|         4.3|        1.3|Iris-versicolor|[6.2,2.9,4.3,1.3]|      0|\n",
      "|         5.1|        2.5|         3.0|        1.1|Iris-versicolor|[5.1,2.5,3.0,1.1]|      0|\n",
      "|         5.7|        2.8|         4.1|        1.3|Iris-versicolor|[5.7,2.8,4.1,1.3]|      0|\n",
      "|         6.3|        3.3|         6.0|        2.5| Iris-virginica|[6.3,3.3,6.0,2.5]|      2|\n",
      "|         5.8|        2.7|         5.1|        1.9| Iris-virginica|[5.8,2.7,5.1,1.9]|      0|\n",
      "|         7.1|        3.0|         5.9|        2.1| Iris-virginica|[7.1,3.0,5.9,2.1]|      2|\n",
      "|         6.3|        2.9|         5.6|        1.8| Iris-virginica|[6.3,2.9,5.6,1.8]|      2|\n",
      "|         6.5|        3.0|         5.8|        2.2| Iris-virginica|[6.5,3.0,5.8,2.2]|      2|\n",
      "|         7.6|        3.0|         6.6|        2.1| Iris-virginica|[7.6,3.0,6.6,2.1]|      2|\n",
      "|         4.9|        2.5|         4.5|        1.7| Iris-virginica|[4.9,2.5,4.5,1.7]|      0|\n",
      "|         7.3|        2.9|         6.3|        1.8| Iris-virginica|[7.3,2.9,6.3,1.8]|      2|\n",
      "|         6.7|        2.5|         5.8|        1.8| Iris-virginica|[6.7,2.5,5.8,1.8]|      2|\n",
      "|         7.2|        3.6|         6.1|        2.5| Iris-virginica|[7.2,3.6,6.1,2.5]|      2|\n",
      "|         6.5|        3.2|         5.1|        2.0| Iris-virginica|[6.5,3.2,5.1,2.0]|      2|\n",
      "|         6.4|        2.7|         5.3|        1.9| Iris-virginica|[6.4,2.7,5.3,1.9]|      2|\n",
      "|         6.8|        3.0|         5.5|        2.1| Iris-virginica|[6.8,3.0,5.5,2.1]|      2|\n",
      "|         5.7|        2.5|         5.0|        2.0| Iris-virginica|[5.7,2.5,5.0,2.0]|      0|\n",
      "|         5.8|        2.8|         5.1|        2.4| Iris-virginica|[5.8,2.8,5.1,2.4]|      0|\n",
      "|         6.4|        3.2|         5.3|        2.3| Iris-virginica|[6.4,3.2,5.3,2.3]|      2|\n",
      "|         6.5|        3.0|         5.5|        1.8| Iris-virginica|[6.5,3.0,5.5,1.8]|      2|\n",
      "|         7.7|        3.8|         6.7|        2.2| Iris-virginica|[7.7,3.8,6.7,2.2]|      2|\n",
      "|         7.7|        2.6|         6.9|        2.3| Iris-virginica|[7.7,2.6,6.9,2.3]|      2|\n",
      "|         6.0|        2.2|         5.0|        1.5| Iris-virginica|[6.0,2.2,5.0,1.5]|      0|\n",
      "|         6.9|        3.2|         5.7|        2.3| Iris-virginica|[6.9,3.2,5.7,2.3]|      2|\n",
      "|         5.6|        2.8|         4.9|        2.0| Iris-virginica|[5.6,2.8,4.9,2.0]|      0|\n",
      "|         7.7|        2.8|         6.7|        2.0| Iris-virginica|[7.7,2.8,6.7,2.0]|      2|\n",
      "|         6.3|        2.7|         4.9|        1.8| Iris-virginica|[6.3,2.7,4.9,1.8]|      0|\n",
      "|         6.7|        3.3|         5.7|        2.1| Iris-virginica|[6.7,3.3,5.7,2.1]|      2|\n",
      "|         7.2|        3.2|         6.0|        1.8| Iris-virginica|[7.2,3.2,6.0,1.8]|      2|\n",
      "|         6.2|        2.8|         4.8|        1.8| Iris-virginica|[6.2,2.8,4.8,1.8]|      0|\n",
      "|         6.1|        3.0|         4.9|        1.8| Iris-virginica|[6.1,3.0,4.9,1.8]|      0|\n",
      "|         6.4|        2.8|         5.6|        2.1| Iris-virginica|[6.4,2.8,5.6,2.1]|      2|\n",
      "|         7.2|        3.0|         5.8|        1.6| Iris-virginica|[7.2,3.0,5.8,1.6]|      2|\n",
      "|         7.4|        2.8|         6.1|        1.9| Iris-virginica|[7.4,2.8,6.1,1.9]|      2|\n",
      "|         7.9|        3.8|         6.4|        2.0| Iris-virginica|[7.9,3.8,6.4,2.0]|      2|\n",
      "|         6.4|        2.8|         5.6|        2.2| Iris-virginica|[6.4,2.8,5.6,2.2]|      2|\n",
      "|         6.3|        2.8|         5.1|        1.5| Iris-virginica|[6.3,2.8,5.1,1.5]|      0|\n",
      "|         6.1|        2.6|         5.6|        1.4| Iris-virginica|[6.1,2.6,5.6,1.4]|      2|\n",
      "|         7.7|        3.0|         6.1|        2.3| Iris-virginica|[7.7,3.0,6.1,2.3]|      2|\n",
      "|         6.3|        3.4|         5.6|        2.4| Iris-virginica|[6.3,3.4,5.6,2.4]|      2|\n",
      "|         6.4|        3.1|         5.5|        1.8| Iris-virginica|[6.4,3.1,5.5,1.8]|      2|\n",
      "|         6.0|        3.0|         4.8|        1.8| Iris-virginica|[6.0,3.0,4.8,1.8]|      0|\n",
      "|         6.9|        3.1|         5.4|        2.1| Iris-virginica|[6.9,3.1,5.4,2.1]|      2|\n",
      "|         6.7|        3.1|         5.6|        2.4| Iris-virginica|[6.7,3.1,5.6,2.4]|      2|\n",
      "|         6.9|        3.1|         5.1|        2.3| Iris-virginica|[6.9,3.1,5.1,2.3]|      2|\n",
      "|         5.8|        2.7|         5.1|        1.9| Iris-virginica|[5.8,2.7,5.1,1.9]|      0|\n",
      "|         6.8|        3.2|         5.9|        2.3| Iris-virginica|[6.8,3.2,5.9,2.3]|      2|\n",
      "|         6.7|        3.3|         5.7|        2.5| Iris-virginica|[6.7,3.3,5.7,2.5]|      2|\n",
      "|         6.7|        3.0|         5.2|        2.3| Iris-virginica|[6.7,3.0,5.2,2.3]|      2|\n",
      "|         6.3|        2.5|         5.0|        1.9| Iris-virginica|[6.3,2.5,5.0,1.9]|      0|\n",
      "|         6.5|        3.0|         5.2|        2.0| Iris-virginica|[6.5,3.0,5.2,2.0]|      2|\n",
      "|         6.2|        3.4|         5.4|        2.3| Iris-virginica|[6.2,3.4,5.4,2.3]|      2|\n",
      "|         5.9|        3.0|         5.1|        1.8| Iris-virginica|[5.9,3.0,5.1,1.8]|      0|\n",
      "+------------+-----------+------------+-----------+---------------+-----------------+-------+\n",
      "\n"
     ]
    }
   ],
   "source": [
    "model.transform(irisDf1).show(150)"
   ]
  },
  {
   "cell_type": "code",
   "execution_count": null,
   "metadata": {},
   "outputs": [],
   "source": []
  }
 ],
 "metadata": {
  "kernelspec": {
   "display_name": "Python 3",
   "language": "python",
   "name": "python3"
  },
  "language_info": {
   "codemirror_mode": {
    "name": "ipython",
    "version": 3
   },
   "file_extension": ".py",
   "mimetype": "text/x-python",
   "name": "python",
   "nbconvert_exporter": "python",
   "pygments_lexer": "ipython3",
   "version": "3.8.6"
  }
 },
 "nbformat": 4,
 "nbformat_minor": 4
}
